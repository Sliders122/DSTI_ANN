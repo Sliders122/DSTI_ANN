{
  "cells": [
    {
      "metadata": {
        "id": "yYGlByASWc8d"
      },
      "cell_type": "markdown",
      "source": [
        "<a class=\"anchor\" id=\"0\"></a>\n",
        "# MNIST - Deep Neural Network with Keras"
      ]
    },
    {
      "metadata": {
        "id": "NWnF26BJWc8n"
      },
      "cell_type": "markdown",
      "source": [
        "In this notebook, we will build a deep neural network on MNIST handwritten digit images to classify them. \n",
        "\n",
        "\n",
        "MNIST is called the \"Hello World\" in Deep Learning and it is actually an image recognition task.\n"
      ]
    },
    {
      "metadata": {
        "id": "Z4IBC6VUWc8w"
      },
      "cell_type": "markdown",
      "source": [
        "# 1. Objective of the notebook <a class=\"anchor\" id=\"1\"></a>\n",
        "\n",
        "[Back to Table of Contents](#0.1)\n",
        "\n",
        "- In this notebook, we create a **Multilayer Perceptron (MLP)** model of the MNIST dataset. \n",
        "\n",
        "- **Multilayer Perceptrons (MLPs)** usually mean fully connected networks, that is, each neuron in one layer is connected to all neurons in the next layer. The \"fully-connectedness\" of these networks makes them prone to overfitting the data. \n",
        "\n",
        "- These MLP models are also referred to as either **deep feedforward networks** or **feedforward neural networks**. MLPs are common in simple logistic and linear regression problems.\n",
        "\n",
        "- So, the objective is to create a neural network for identifying numbers based on handwritten digits. For example, when the input to the network is an image of a handwritten number 8, the corresponding prediction must also be the digit 8. \n",
        "\n",
        "- To both train and validate a neural network, there must be a sufficiently large dataset of handwritten digits.\n",
        "\n",
        "- The Modified National Institute of Standards and Technology dataset or MNIST dataset for short, is often considered as the Hello World! of deep learning and is a suitable dataset for handwritten digit classification.\n",
        "\n",
        "- MNIST is used to explain and validate deep learning theories because the 70,000 samples it contains are small, yet sufficiently rich in information (MNIST dataset is described later)."
      ]
    },
    {
      "metadata": {
        "id": "3NKEPdrzWc80"
      },
      "cell_type": "markdown",
      "source": [
        "So, we will start by importing the necessary libraries:"
      ]
    },
    {
      "metadata": {
        "id": "h8X-qkMfWc81"
      },
      "cell_type": "markdown",
      "source": [
        "# 2. Import necessary libraries <a class=\"anchor\" id=\"2\"></a>\n",
        "\n",
        "[Back to Table of Contents](#0.1)"
      ]
    },
    {
      "metadata": {
        "_uuid": "8f2839f25d086af736a60e9eeb907d3b93b6e0e5",
        "_cell_guid": "b1076dfc-b9ad-4769-8c92-a6c4dae69d19",
        "trusted": true,
        "id": "Lau4hvQ7Wc83"
      },
      "cell_type": "code",
      "source": [
        "# This Python 3 environment comes with many helpful analytics libraries installed\n",
        "# It is defined by the kaggle/python docker image: https://github.com/kaggle/docker-python\n",
        "# For example, here's several helpful packages to load in \n",
        "\n",
        "import numpy as np # linear algebra\n",
        "import pandas as pd # data processing, CSV file I/O (e.g. pd.read_csv)\n",
        "\n",
        "\n",
        "import matplotlib.pyplot as plt # plotting library\n",
        "%matplotlib inline\n",
        "import tensorflow as tf\n",
        "\n",
        "from keras.models import Sequential\n",
        "from keras.layers import Dense , Activation, Dropout\n",
        "from tensorflow.keras.optimizers import Adam, RMSprop\n",
        "from keras import  backend as K\n",
        "\n"
      ],
      "execution_count": null,
      "outputs": []
    },
    {
      "cell_type": "markdown",
      "source": [
        "# 2.1 Sanity Checks  <a class=\"anchor\" id=\"2\"></a> \n",
        "\n",
        "Check whether the environment is functioning efficiently and as expected"
      ],
      "metadata": {
        "id": "6hC7WyLs86Z1"
      }
    },
    {
      "cell_type": "code",
      "source": [
        "#Check if GPU is used\n",
        "my_gpu_device_name = tf.test.gpu_device_name()\n",
        "\n",
        "if my_gpu_device_name != '/device:GPU:0':\n",
        "  raise SystemError('GPU not found!')\n",
        "  \n",
        "print(f'Available GPU : {my_gpu_device_name}')"
      ],
      "metadata": {
        "colab": {
          "base_uri": "https://localhost:8080/"
        },
        "id": "ekR93fkX862P",
        "outputId": "557590ef-d439-4fc3-cd85-71009e47aa2b"
      },
      "execution_count": null,
      "outputs": [
        {
          "output_type": "stream",
          "name": "stdout",
          "text": [
            "Available GPU : /device:GPU:0\n"
          ]
        }
      ]
    },
    {
      "cell_type": "code",
      "source": [
        "#Check which GPU\n",
        "gpu_info = !nvidia-smi\n",
        "gpu_info = '\\n'.join(gpu_info)\n",
        "\n",
        "if gpu_info.find('failed') >= 0:\n",
        "  print('Select the Runtime > \"Change runtime type\" menu to enable a GPU accelerator, ')\n",
        "  print('and then re-execute this cell.')\n",
        "else:\n",
        "  print(gpu_info)"
      ],
      "metadata": {
        "colab": {
          "base_uri": "https://localhost:8080/"
        },
        "id": "6F4sqFqO9G5B",
        "outputId": "86ef69de-4129-4d87-f742-07457ec0e3e4"
      },
      "execution_count": null,
      "outputs": [
        {
          "output_type": "stream",
          "name": "stdout",
          "text": [
            "Sat Sep  3 13:50:43 2022       \n",
            "+-----------------------------------------------------------------------------+\n",
            "| NVIDIA-SMI 460.32.03    Driver Version: 460.32.03    CUDA Version: 11.2     |\n",
            "|-------------------------------+----------------------+----------------------+\n",
            "| GPU  Name        Persistence-M| Bus-Id        Disp.A | Volatile Uncorr. ECC |\n",
            "| Fan  Temp  Perf  Pwr:Usage/Cap|         Memory-Usage | GPU-Util  Compute M. |\n",
            "|                               |                      |               MIG M. |\n",
            "|===============================+======================+======================|\n",
            "|   0  Tesla T4            Off  | 00000000:00:04.0 Off |                    0 |\n",
            "| N/A   48C    P0    27W /  70W |    284MiB / 15109MiB |      0%      Default |\n",
            "|                               |                      |                  N/A |\n",
            "+-------------------------------+----------------------+----------------------+\n",
            "                                                                               \n",
            "+-----------------------------------------------------------------------------+\n",
            "| Processes:                                                                  |\n",
            "|  GPU   GI   CI        PID   Type   Process name                  GPU Memory |\n",
            "|        ID   ID                                                   Usage      |\n",
            "|=============================================================================|\n",
            "+-----------------------------------------------------------------------------+\n"
          ]
        }
      ]
    },
    {
      "cell_type": "code",
      "source": [
        "#Check how much memory is still available\n",
        "from psutil import virtual_memory\n",
        "ram_gb = virtual_memory().total / 1e9\n",
        "print('Your runtime has {:.1f} gigabytes of available RAM\\n'.format(ram_gb))\n",
        "\n",
        "if ram_gb < 20:\n",
        "  print('To enable a high-RAM runtime, select the Runtime > \"Change runtime type\"')\n",
        "  print('menu, and then select High-RAM in the Runtime shape dropdown. Then, ')\n",
        "  print('re-execute this cell.')\n",
        "else:\n",
        "  print('You are using a high-RAM runtime!')"
      ],
      "metadata": {
        "colab": {
          "base_uri": "https://localhost:8080/"
        },
        "id": "1ODI9cPW9NtK",
        "outputId": "be4146e0-8f0e-4bbf-c484-5dc448e7d325"
      },
      "execution_count": null,
      "outputs": [
        {
          "output_type": "stream",
          "name": "stdout",
          "text": [
            "Your runtime has 13.6 gigabytes of available RAM\n",
            "\n",
            "To enable a high-RAM runtime, select the Runtime > \"Change runtime type\"\n",
            "menu, and then select High-RAM in the Runtime shape dropdown. Then, \n",
            "re-execute this cell.\n"
          ]
        }
      ]
    },
    {
      "cell_type": "code",
      "source": [
        "print(tf.__version__)   #show the version of TensorFlow we are using"
      ],
      "metadata": {
        "colab": {
          "base_uri": "https://localhost:8080/"
        },
        "id": "OUZ_83K69UVm",
        "outputId": "8057f3cf-95f2-450f-a767-1af77748ea08"
      },
      "execution_count": null,
      "outputs": [
        {
          "output_type": "stream",
          "name": "stdout",
          "text": [
            "2.8.2\n"
          ]
        }
      ]
    },
    {
      "metadata": {
        "id": "TwBT524nWc89"
      },
      "cell_type": "markdown",
      "source": [
        "# 3. MNIST dataset <a class=\"anchor\" id=\"3\"></a>\n",
        "\n",
        "[Back to Table of Contents](#0.1)\n",
        "\n",
        "\n",
        "- MNIST is a collection of handwritten digits ranging from the number 0 to 9. \n",
        "\n",
        "- It has a training set of 60,000 images, and 10,000 test images that are classified into corresponding categories or labels. \n",
        "\n",
        "- To use the MNIST dataset in Keras, an API is provided to download and extract images and labels automatically. \n",
        "\n",
        "- The following Keras code shows how to access MNIST dataset, plot 25 random samples, and count the number of labels for train and test datasets."
      ]
    },
    {
      "metadata": {
        "trusted": true,
        "colab": {
          "base_uri": "https://localhost:8080/"
        },
        "id": "UCC8dW0VWc8_",
        "outputId": "6cebf525-d381-4506-fa95-ee34b1ec204f"
      },
      "cell_type": "code",
      "source": [
        "# import dataset\n",
        "from keras.datasets import mnist\n",
        "\n",
        "\n",
        "# load and split dataset into training and test set\n",
        "(x_train, y_train), (x_test, y_test) = mnist.load_data()\n",
        "\n",
        "\n",
        "\n",
        "# count the number of unique train labels\n",
        "unique, counts = np.unique(y_train, return_counts=True)\n",
        "print(\"Train labels: \", dict(zip(unique, counts)))\n",
        "\n",
        "\n",
        "\n",
        "# count the number of unique test labels\n",
        "unique, counts = np.unique(y_test, return_counts=True)\n",
        "print(\"\\nTest labels: \", dict(zip(unique, counts)))  #\"\\n\" --> new line\n"
      ],
      "execution_count": null,
      "outputs": [
        {
          "output_type": "stream",
          "name": "stdout",
          "text": [
            "Downloading data from https://storage.googleapis.com/tensorflow/tf-keras-datasets/mnist.npz\n",
            "11493376/11490434 [==============================] - 0s 0us/step\n",
            "11501568/11490434 [==============================] - 0s 0us/step\n",
            "Train labels:  {0: 5923, 1: 6742, 2: 5958, 3: 6131, 4: 5842, 5: 5421, 6: 5918, 7: 6265, 8: 5851, 9: 5949}\n",
            "\n",
            "Test labels:  {0: 980, 1: 1135, 2: 1032, 3: 1010, 4: 982, 5: 892, 6: 958, 7: 1028, 8: 974, 9: 1009}\n"
          ]
        }
      ]
    },
    {
      "metadata": {
        "id": "1LPLku5rWc9B"
      },
      "cell_type": "markdown",
      "source": [
        "# 4. Data visualization <a class=\"anchor\" id=\"4\"></a>\n",
        "\n",
        "[Back to Table of Contents](#0.1)\n",
        "\n",
        "\n",
        "- The following code will help to sample the 25 random MNIST digits and visualize them."
      ]
    },
    {
      "cell_type": "code",
      "source": [
        "# Display images\n",
        "\n",
        "import matplotlib.pyplot as plt\n",
        "plt.imshow(x_train[7], cmap=plt.cm.binary)"
      ],
      "metadata": {
        "colab": {
          "base_uri": "https://localhost:8080/",
          "height": 282
        },
        "id": "uu-Gmd3lXUxV",
        "outputId": "1649355b-8a8b-42b2-9ffe-7977979f6ed3"
      },
      "execution_count": null,
      "outputs": [
        {
          "output_type": "execute_result",
          "data": {
            "text/plain": [
              "<matplotlib.image.AxesImage at 0x7f58a0018610>"
            ]
          },
          "metadata": {},
          "execution_count": 10
        },
        {
          "output_type": "display_data",
          "data": {
            "text/plain": [
              "<Figure size 432x288 with 1 Axes>"
            ],
            "image/png": "[encoded data removed]"
          },
          "metadata": {
            "needs_background": "light"
          }
        }
      ]
    },
    {
      "cell_type": "code",
      "source": [
        "# View the labels\n",
        "print(y_train[7])"
      ],
      "metadata": {
        "colab": {
          "base_uri": "https://localhost:8080/"
        },
        "id": "vqofDTk_HkUi",
        "outputId": "651e6162-9bcd-461a-f362-f6cdb06c6c4f"
      },
      "execution_count": null,
      "outputs": [
        {
          "output_type": "stream",
          "name": "stdout",
          "text": [
            "3\n"
          ]
        }
      ]
    },
    {
      "cell_type": "code",
      "source": [
        "#Names of numbers in the dataset in order\n",
        "col_names = ['Zero','One','Two','Three','Four','Five','Six','Seven','Eight','Nine']\n",
        "\n",
        "#Visualizing the digits\n",
        "plt.figure(figsize=(10,10))\n",
        "for i in range(15):\n",
        "    plt.subplot(5,5,i+1)\n",
        "    plt.xticks([])\n",
        "    plt.yticks([])\n",
        "    plt.imshow(x_train[i], cmap='gray')\n",
        "    plt.xlabel(col_names[y_train[i]])\n",
        "plt.show()"
      ],
      "metadata": {
        "colab": {
          "base_uri": "https://localhost:8080/",
          "height": 364
        },
        "id": "52hEChOieoHe",
        "outputId": "cd6cebf4-5505-44a2-d795-e6ccdb978ec4"
      },
      "execution_count": null,
      "outputs": [
        {
          "output_type": "display_data",
          "data": {
            "text/plain": [
              "<Figure size 720x720 with 15 Axes>"
            ],
            "image/png": "[encoded data removed]"
          },
          "metadata": {}
        }
      ]
    },
    {
      "metadata": {
        "trusted": true,
        "colab": {
          "base_uri": "https://localhost:8080/",
          "height": 303
        },
        "id": "5aLuAJe5Wc9C",
        "outputId": "69c90a29-6c7c-499e-dbe9-7a7f6bc2c3ba"
      },
      "cell_type": "code",
      "source": [
        "# sample 25 mnist digits from train dataset\n",
        "indexes = np.random.randint(0, x_train.shape[0], size=25)\n",
        "images = x_train[indexes]\n",
        "labels = y_train[indexes]\n",
        "\n",
        "\n",
        "# plot the 25 mnist digits\n",
        "plt.figure(figsize=(5,5))\n",
        "for i in range(len(indexes)):\n",
        "    plt.subplot(5, 5, i + 1)\n",
        "    image = images[i]\n",
        "    plt.imshow(image, cmap='gray')\n",
        "    plt.axis('off')\n",
        "    \n",
        "plt.show()\n",
        "plt.savefig(\"mnist-samples.png\")\n",
        "plt.close('all')"
      ],
      "execution_count": null,
      "outputs": [
        {
          "output_type": "display_data",
          "data": {
            "text/plain": [
              "<Figure size 360x360 with 25 Axes>"
            ],
            "image/png": "[encoded data removed]"
          },
          "metadata": {
            "needs_background": "light"
          }
        }
      ]
    },
    {
      "cell_type": "markdown",
      "source": [
        "## 5. Data representation in Keras <a class=\"anchor\" id=\"4\"></a>\n",
        "\n",
        "[Back to Table of Contents](#0.1)\n",
        "\n",
        "- Keras uses a multidimensional array of Numpy as a basic data structure. We call this data structure a **tensor**. \n",
        "\n",
        "- A tensor has three main attributes:\n",
        "\n",
        "  - **Number of axes (Rank)**:  \n",
        "  \n",
        "    - A tensor containing a single number will be called **scalar** (or a 0-dimensional tensor, or tensor 0D). \n",
        "    - An array of numbers is called **vector**, or tensor 1D. \n",
        "    - An array of vectors will be a matrix, or 2D tensor. \n",
        "    - If we pack this matrix in a new array, we get a 3D tensor, which we can interpret visually as a cube of numbers. \n",
        "    - By packaging a 3D tensioner in an array, we can create a 4D tensioner and so on. \n",
        "    - In the Python Numpy library this is called the **tensor’s ndim**.\n",
        "    \n",
        "    \n",
        "  - **Shape**:\n",
        "  \n",
        "     - It is a tuple of integers that describe how many dimensions the tensor has along each axis. \n",
        "     - In the Numpy library this attribute is called **Shape**.\n",
        "     \n",
        "     \n",
        "  - **Data type**: \n",
        "  \n",
        "    - This attribute indicates the type of data that contains the tensor, which can be for example uint8, float32, float64, etc. \n",
        "    - In the Numpy library this attribute is called **dtype**.\n"
      ],
      "metadata": {
        "id": "9rNRMtPqYzTp"
      }
    },
    {
      "metadata": {
        "id": "NqA9ZMV3Wc9D"
      },
      "cell_type": "markdown",
      "source": [
        "# 5. Designing model architecture using Keras <a class=\"anchor\" id=\"5\"></a>\n",
        "\n",
        "[Back to Table of Contents](#0.1)\n",
        "\n",
        "\n",
        "- The MLP model, discussed above can be used for MNIST digits classification. \n",
        "\n",
        "- When the units or perceptrons are exposed, the MLP model is a fully connected network.\n",
        "\n",
        "- The following code shows how to design the MLP model architecture using Keras.\n",
        "\n",
        "- The first step in designing the model architecture is to import the Keras layers. This can be done as follows:\n",
        "\n",
        "\n"
      ]
    },
    {
      "cell_type": "markdown",
      "source": [
        "We can obtain the number of axes and dimensions of the tensor `train_images` from our previous example as follows:"
      ],
      "metadata": {
        "id": "UvrZB4u7Y_2m"
      }
    },
    {
      "cell_type": "code",
      "source": [
        "# View number of dimensions of tensor\n",
        "\n",
        "print(x_train.ndim)"
      ],
      "metadata": {
        "colab": {
          "base_uri": "https://localhost:8080/"
        },
        "id": "_R9OI1taY8WG",
        "outputId": "0f7c4a39-1fc8-46d6-bd9b-216fdd5cc3d0"
      },
      "execution_count": null,
      "outputs": [
        {
          "output_type": "stream",
          "name": "stdout",
          "text": [
            "3\n"
          ]
        }
      ]
    },
    {
      "cell_type": "code",
      "source": [
        "# View the dimension of tensor\n",
        "\n",
        "print(x_train.shape)"
      ],
      "metadata": {
        "colab": {
          "base_uri": "https://localhost:8080/"
        },
        "id": "9wuZFKPhZDIA",
        "outputId": "a6e43a87-b069-436d-dbb0-7af8322a5c6d"
      },
      "execution_count": null,
      "outputs": [
        {
          "output_type": "stream",
          "name": "stdout",
          "text": [
            "(60000, 28, 28)\n"
          ]
        }
      ]
    },
    {
      "cell_type": "markdown",
      "source": [
        "To know the data type it contains, we can run the following command:"
      ],
      "metadata": {
        "id": "hn_FXvGMZG2l"
      }
    },
    {
      "cell_type": "code",
      "source": [
        "# View the data type of tensor\n",
        "\n",
        "print(x_train.dtype)"
      ],
      "metadata": {
        "colab": {
          "base_uri": "https://localhost:8080/"
        },
        "id": "-5Uk3h0IZIKJ",
        "outputId": "19773f52-9d47-467f-94f1-ca379c105dcf"
      },
      "execution_count": null,
      "outputs": [
        {
          "output_type": "stream",
          "name": "stdout",
          "text": [
            "uint8\n"
          ]
        }
      ]
    },
    {
      "metadata": {
        "id": "2Zkv5Y4yWc9E"
      },
      "cell_type": "markdown",
      "source": [
        "## 5.1 Import Keras layers <a class=\"anchor\" id=\"5.1\"></a>"
      ]
    },
    {
      "metadata": {
        "_uuid": "d629ff2d2480ee46fbb7e2d37f6b5fab8052498a",
        "_cell_guid": "79c7e3d0-c299-4dcb-8224-4455121ee9b0",
        "trusted": true,
        "id": "CDREtN12Wc9F"
      },
      "cell_type": "code",
      "source": [
        "from keras.models import Sequential\n",
        "from keras.layers import Dense, Activation, Dropout\n",
        "from tensorflow.keras.utils import to_categorical, plot_model"
      ],
      "execution_count": null,
      "outputs": []
    },
    {
      "metadata": {
        "id": "8GzXUIZ4Wc9G"
      },
      "cell_type": "markdown",
      "source": [
        "## 5.2 Compute the number of labels <a class=\"anchor\" id=\"5.2\"></a>\n",
        "\n",
        "- Now, the data must be in the correct shape and format. \n",
        "\n",
        "- After loading the MNIST dataset, the number of labels is computed as:"
      ]
    },
    {
      "metadata": {
        "trusted": true,
        "colab": {
          "base_uri": "https://localhost:8080/"
        },
        "id": "kGATYUxSWc9H",
        "outputId": "bd5c3ba9-b681-43d0-8050-bf9af5ff75a6"
      },
      "cell_type": "code",
      "source": [
        "# compute the number of labels\n",
        "num_labels = len(np.unique(y_train))\n",
        "num_labels"
      ],
      "execution_count": null,
      "outputs": [
        {
          "output_type": "execute_result",
          "data": {
            "text/plain": [
              "10"
            ]
          },
          "metadata": {},
          "execution_count": 22
        }
      ]
    },
    {
      "cell_type": "code",
      "source": [
        "np.unique(y_train)"
      ],
      "metadata": {
        "colab": {
          "base_uri": "https://localhost:8080/"
        },
        "id": "AjFfE9tXr2QB",
        "outputId": "045dc30f-bb65-456e-aac6-42964bbaf593"
      },
      "execution_count": null,
      "outputs": [
        {
          "output_type": "execute_result",
          "data": {
            "text/plain": [
              "array([0, 1, 2, 3, 4, 5, 6, 7, 8, 9], dtype=uint8)"
            ]
          },
          "metadata": {},
          "execution_count": 23
        }
      ]
    },
    {
      "metadata": {
        "id": "mdUHGFnPWc9J"
      },
      "cell_type": "markdown",
      "source": [
        "## 5.3 Data Preprocessing <a class=\"anchor\" id=\"5.4\"></a>\n",
        "\n",
        "\n",
        "- In deep learning, data is stored in tensors. The term tensor applies to a scalar (0D tensor), vector (1D tensor), matrix (2D tensor), and a multi-dimensional tensor.\n",
        "\n",
        "- The rest code computes the image dimensions, input_size of the first Dense layer and scales each pixel value from 0 to 255 to range from 0.0 to 1.0. Although raw pixel values can be used directly, it is better to normalize the input data as to avoid large gradient values that could make training difficult. \n",
        "\n",
        "- The output of the network is also normalized. After training, there is an option to put everything back to the integer pixel values by multiplying the output tensor by 255.  \n",
        "\n",
        "- The proposed model is based on MLP layers. Therefore, the input is expected to be a 1D tensor. So, x_train and x_test are reshaped to [60000, 28 * 28] and [10000, 28 * 28], respectively."
      ]
    },
    {
      "metadata": {
        "trusted": true,
        "colab": {
          "base_uri": "https://localhost:8080/"
        },
        "id": "9ELFIQTPWc9K",
        "outputId": "882a9efd-23fe-4b86-87f8-d32329045d99"
      },
      "cell_type": "code",
      "source": [
        "# image dimensions (assumed square)\n",
        "image_size = x_train.shape[1]\n",
        "input_size = image_size * image_size\n",
        "input_size"
      ],
      "execution_count": null,
      "outputs": [
        {
          "output_type": "execute_result",
          "data": {
            "text/plain": [
              "784"
            ]
          },
          "metadata": {},
          "execution_count": 24
        }
      ]
    },
    {
      "cell_type": "markdown",
      "source": [
        "Data normalization could be done as follows :"
      ],
      "metadata": {
        "id": "eRZUpWH7ZkT_"
      }
    },
    {
      "metadata": {
        "trusted": true,
        "id": "vxOdAah3Wc9L"
      },
      "cell_type": "code",
      "source": [
        "# Resize and normalize\n",
        "# scale the input values to type float32\n",
        "\n",
        "x_train = x_train.astype('float32')\n",
        "x_test = x_test.astype('float32')\n"
      ],
      "execution_count": null,
      "outputs": []
    },
    {
      "cell_type": "code",
      "source": [
        "# scale the input values within the interval [0, 1]\n",
        "\n",
        "x_train /= 255\n",
        "x_test /= 255"
      ],
      "metadata": {
        "id": "-_mSjsPw-Ch6"
      },
      "execution_count": null,
      "outputs": []
    },
    {
      "cell_type": "markdown",
      "source": [
        "- To facilitate the entry of data into our neural network we must make a transformation of the tensor (image) from 2 dimensions (2D) to a vector of 1 dimension (1D). \n",
        "- That is, the matrix of 28×28 numbers can be represented by a vector (array) of 784 numbers (concatenating row by row), which is the format that accepts as input a densely connected neural network. \n",
        "- In Python, converting every image of the MNIST dataset to a vector with 784 components can be accomplished as follows:"
      ],
      "metadata": {
        "id": "4ChLJA-F-Z5I"
      }
    },
    {
      "cell_type": "code",
      "source": [
        "x_train = x_train.reshape(60000, 784)\n",
        "x_test = x_test.reshape(10000, 784)"
      ],
      "metadata": {
        "id": "o_ho-0dK-Vba"
      },
      "execution_count": null,
      "outputs": []
    },
    {
      "cell_type": "markdown",
      "source": [
        "- After executing the above Python instructions, we can verify that `x_train.shape` gives (60000, 784) and `x_test.shape` gives (10000, 784). \n",
        "- The first dimension indexes the image and the second indexes the pixel in each image (now the intensity of the pixel is a value between 0 and 1):"
      ],
      "metadata": {
        "id": "C_Vm76VSZo9t"
      }
    },
    {
      "cell_type": "code",
      "source": [
        "print(x_train.shape)\n",
        "print(x_test.shape)"
      ],
      "metadata": {
        "colab": {
          "base_uri": "https://localhost:8080/"
        },
        "id": "FNvMYnM0_LGD",
        "outputId": "72682b8f-38fd-4c8d-e04b-3d47b97524f2"
      },
      "execution_count": null,
      "outputs": [
        {
          "output_type": "stream",
          "name": "stdout",
          "text": [
            "(60000, 784)\n",
            "(10000, 784)\n"
          ]
        }
      ]
    },
    {
      "cell_type": "markdown",
      "source": [
        "## 5.3 One-Hot Encoding <a class=\"anchor\" id=\"5.3\"></a>\n",
        "\n",
        "- At this point, the labels are in digits format, 0 to 9. \n",
        "\n",
        "- This sparse scalar representation of labels is not suitable for the neural network prediction layer that outputs probabilities per class. \n",
        "\n",
        "- A more suitable format is called a one-hot vector, a 10-dim vector with all elements 0, except for the index of the digit class. \n",
        "\n",
        "- For example, if the label is 2, the equivalent one-hot vector is [0,0,1,0,0,0,0,0,0,0]. The first label has index 0.\n",
        "\n"
      ],
      "metadata": {
        "id": "qGm0dAfl8jJt"
      }
    },
    {
      "cell_type": "markdown",
      "source": [
        "- To see the effect of the transformation we can see the values before and after applying `to_categorical`:"
      ],
      "metadata": {
        "id": "ufHPvLTp8-Y4"
      }
    },
    {
      "cell_type": "code",
      "source": [
        "print(y_test[0])"
      ],
      "metadata": {
        "colab": {
          "base_uri": "https://localhost:8080/"
        },
        "id": "2G3Q6gOA81EB",
        "outputId": "96110022-3d03-44ea-aa47-adf05b814f3f"
      },
      "execution_count": null,
      "outputs": [
        {
          "output_type": "stream",
          "name": "stdout",
          "text": [
            "7\n"
          ]
        }
      ]
    },
    {
      "cell_type": "code",
      "source": [
        "print(y_train[0])"
      ],
      "metadata": {
        "colab": {
          "base_uri": "https://localhost:8080/"
        },
        "id": "YrQajSrf82gl",
        "outputId": "c26701ab-37d4-4427-ce50-eb9aeb3515b3"
      },
      "execution_count": null,
      "outputs": [
        {
          "output_type": "stream",
          "name": "stdout",
          "text": [
            "5\n"
          ]
        }
      ]
    },
    {
      "cell_type": "markdown",
      "source": [
        "- The following lines convert each label into a one-hot vector:"
      ],
      "metadata": {
        "id": "s5UcuoT09AO1"
      }
    },
    {
      "cell_type": "code",
      "source": [
        "# convert to one-hot vector\n",
        "y_train = to_categorical(y_train, num_classes=10)\n",
        "y_test = to_categorical(y_test, num_classes=10)"
      ],
      "metadata": {
        "id": "GPvOMZiL8qOD"
      },
      "execution_count": null,
      "outputs": []
    },
    {
      "cell_type": "code",
      "source": [
        "# redo test\n",
        "print(y_test[0])"
      ],
      "metadata": {
        "colab": {
          "base_uri": "https://localhost:8080/"
        },
        "id": "nLQUcA7W9E6J",
        "outputId": "b79e8087-2ea1-47a4-955c-5820008fc12f"
      },
      "execution_count": null,
      "outputs": [
        {
          "output_type": "stream",
          "name": "stdout",
          "text": [
            "[0. 0. 0. 0. 0. 0. 0. 1. 0. 0.]\n"
          ]
        }
      ]
    },
    {
      "cell_type": "code",
      "source": [
        "# redo test\n",
        "print(y_train[0])"
      ],
      "metadata": {
        "colab": {
          "base_uri": "https://localhost:8080/"
        },
        "id": "lWeLi4Ej9F-G",
        "outputId": "68addede-b390-47e9-e65e-da79ca1f8a7b"
      },
      "execution_count": null,
      "outputs": [
        {
          "output_type": "stream",
          "name": "stdout",
          "text": [
            "[0. 0. 0. 0. 0. 1. 0. 0. 0. 0.]\n"
          ]
        }
      ]
    },
    {
      "cell_type": "code",
      "source": [
        "print(x_train.shape)\n",
        "print(y_train.shape)"
      ],
      "metadata": {
        "colab": {
          "base_uri": "https://localhost:8080/"
        },
        "id": "Uo23fzMgZq0g",
        "outputId": "301a21bd-1ad7-4675-fccb-6871e570eea2"
      },
      "execution_count": null,
      "outputs": [
        {
          "output_type": "stream",
          "name": "stdout",
          "text": [
            "(60000, 784)\n",
            "(60000, 10)\n"
          ]
        }
      ]
    },
    {
      "cell_type": "code",
      "source": [
        "print(x_test.shape)\n",
        "print(y_test.shape)"
      ],
      "metadata": {
        "colab": {
          "base_uri": "https://localhost:8080/"
        },
        "id": "wBzoJhQVZs0P",
        "outputId": "d5dcbeea-d8f3-48f1-8ad8-25dba8ae3ea6"
      },
      "execution_count": null,
      "outputs": [
        {
          "output_type": "stream",
          "name": "stdout",
          "text": [
            "(10000, 784)\n",
            "(10000, 10)\n"
          ]
        }
      ]
    },
    {
      "cell_type": "markdown",
      "source": [
        "- Now, our dataset is ready to be fed in the neural network.\n",
        "- We will program it in Keras in the following section."
      ],
      "metadata": {
        "id": "EbZG1DF0aLwB"
      }
    },
    {
      "cell_type": "code",
      "source": [
        "print(y_test[0])"
      ],
      "metadata": {
        "colab": {
          "base_uri": "https://localhost:8080/"
        },
        "id": "329lQEnP8Hak",
        "outputId": "ea68780e-e4c5-482a-d279-cc0fd57e7543"
      },
      "execution_count": null,
      "outputs": [
        {
          "output_type": "stream",
          "name": "stdout",
          "text": [
            "[0. 0. 0. 0. 0. 0. 0. 1. 0. 0.]\n"
          ]
        }
      ]
    },
    {
      "metadata": {
        "id": "eA0mhLJGWc9L"
      },
      "cell_type": "markdown",
      "source": [
        "## 5.5 Setting network parameters <a class=\"anchor\" id=\"5.5\"></a>\n",
        "\n",
        "- Now, we will set the network parameters as follows:"
      ]
    },
    {
      "metadata": {
        "trusted": true,
        "id": "LcIMaGY_Wc9M"
      },
      "cell_type": "code",
      "source": [
        "# network parameters\n",
        "batch_size = 128\n",
        "hidden_units = 256\n",
        "dropout = 0.45"
      ],
      "execution_count": null,
      "outputs": []
    },
    {
      "metadata": {
        "id": "znzinwYfWc9N"
      },
      "cell_type": "markdown",
      "source": [
        "- The **batch_size** argument indicates the number of data that we will use for each update of the model parameters.\n",
        "\n",
        "- **Hidden_units** shows the number of hidden units.\n",
        "\n",
        "- **Dropout** is the dropout rate (more on this in section 7 - **Overfitting and Regularization**)."
      ]
    },
    {
      "metadata": {
        "id": "DLDkdS5XWc9N"
      },
      "cell_type": "markdown",
      "source": [
        "## 5.6 Designing the model architecture <a class=\"anchor\" id=\"5.6\"></a>\n",
        "\n",
        "\n",
        "- The next step is to design the model architecture. The proposed model is made of three MLP layers. \n",
        "\n",
        "- In Keras, an MLP layer is referred to as Dense, which stands for the densely connected layer. \n",
        "\n",
        "- Both the first and second MLP layers are identical in nature with 256 units each, followed by relu activation and dropout. \n",
        "\n",
        "- 256 units are chosen since 128, 512 and 1,024 units have lower performance metrics. At 128 units, the network converges quickly, but has a lower test accuracy. The added number units for 512 or 1,024 does not increase the test accuracy significantly."
      ]
    },
    {
      "metadata": {
        "id": "qJV2zgDfWc9O"
      },
      "cell_type": "markdown",
      "source": [
        "- The main data structure in Keras is the Sequential class, which allows the creation of a basic neural network.\n",
        "\n",
        "- The Sequential class of the Keras library is a wrapper for the sequential neural network model that Keras offers and can be created in the following way:\n",
        "\n",
        "`from keras.models import Sequential`\n",
        "\n",
        "`model = Sequential()`\n",
        "\n",
        "- The model in Keras is considered as a sequence of layers and each of them gradually “distills” the input data to obtain the desired output.\n",
        "\n",
        "- In Keras, we can add the required types of layers through the **add()** method."
      ]
    },
    {
      "metadata": {
        "trusted": true,
        "id": "7mfYedJhWc9Q"
      },
      "cell_type": "code",
      "source": [
        "# model is a 3-layer MLP with ReLU and dropout after each layer\n",
        "model_1 = Sequential()\n",
        "model_1.add(Dense(hidden_units, input_dim=input_size))\n",
        "model_1.add(Activation('relu'))\n",
        "model_1.add(Dropout(dropout))\n",
        "model_1.add(Dense(hidden_units))\n",
        "model_1.add(Activation('relu'))\n",
        "model_1.add(Dropout(dropout))\n",
        "model_1.add(Dense(num_labels))\n",
        "model_1.add(Activation('softmax'))"
      ],
      "execution_count": null,
      "outputs": []
    },
    {
      "metadata": {
        "id": "fQHbILqnWc9T"
      },
      "cell_type": "markdown",
      "source": [
        "- Since a Dense layer is a linear operation, a sequence of Dense layers can only approximate a linear function. \n",
        "\n",
        "- The problem is that the MNIST digit classification is inherently a non-linear process. Inserting a relu activation between Dense layers will enable MLPs to model non-linear mappings. \n",
        "\n",
        "- relu or Rectified Linear Unit (ReLU) is a simple non-linear function. It allows positive inputs to pass through unchanged while clamping everything else to zero."
      ]
    },
    {
      "metadata": {
        "id": "XW_hIuvYWc9U"
      },
      "cell_type": "markdown",
      "source": [
        "## 5.7 View model summary <a class=\"anchor\" id=\"5.7\"></a>\n",
        "\n",
        "- Keras library provides us **summary()** method to check the model description."
      ]
    },
    {
      "metadata": {
        "trusted": true,
        "colab": {
          "base_uri": "https://localhost:8080/"
        },
        "id": "DJOhaoAZWc9V",
        "outputId": "1e276f25-ff22-4a49-d0c7-63be570d257f"
      },
      "cell_type": "code",
      "source": [
        "model_1.summary()"
      ],
      "execution_count": null,
      "outputs": [
        {
          "output_type": "stream",
          "name": "stdout",
          "text": [
            "Model: \"sequential\"\n",
            "_________________________________________________________________\n",
            " Layer (type)                Output Shape              Param #   \n",
            "=================================================================\n",
            " dense (Dense)               (None, 256)               200960    \n",
            "                                                                 \n",
            " activation (Activation)     (None, 256)               0         \n",
            "                                                                 \n",
            " dropout (Dropout)           (None, 256)               0         \n",
            "                                                                 \n",
            " dense_1 (Dense)             (None, 256)               65792     \n",
            "                                                                 \n",
            " activation_1 (Activation)   (None, 256)               0         \n",
            "                                                                 \n",
            " dropout_1 (Dropout)         (None, 256)               0         \n",
            "                                                                 \n",
            " dense_2 (Dense)             (None, 10)                2570      \n",
            "                                                                 \n",
            " activation_2 (Activation)   (None, 10)                0         \n",
            "                                                                 \n",
            "=================================================================\n",
            "Total params: 269,322\n",
            "Trainable params: 269,322\n",
            "Non-trainable params: 0\n",
            "_________________________________________________________________\n"
          ]
        }
      ]
    },
    {
      "metadata": {
        "id": "WJeHU9JcWc9W"
      },
      "cell_type": "markdown",
      "source": [
        "- The above listing shows the model summary of the proposed network. It requires a total of 269,322 parameters.\n",
        "\n",
        "- This is substantial considering that we have a simple task of classifying MNIST digits. So, MLPs are not parameter efficient. \n",
        "\n",
        "- The total number of parameters required can be computed as follows:\n",
        "\n",
        "  - From input to Dense layer: 784 × 256 + 256 = 200,960. \n",
        "  \n",
        "  - From first Dense to second Dense: 256 × 256 + 256 = 65,792. \n",
        "  \n",
        "  - From second Dense to the output layer: 10 × 256 + 10 = 2,570. \n",
        "  \n",
        "  - The total is 200,690 + 65,972 + 2,570 = 269,322."
      ]
    },
    {
      "metadata": {
        "id": "BkAwYPzhWc9X"
      },
      "cell_type": "markdown",
      "source": [
        "- Another way of verifying the network is by calling the **plot_model()** method as follows:"
      ]
    },
    {
      "metadata": {
        "trusted": true,
        "colab": {
          "base_uri": "https://localhost:8080/",
          "height": 976
        },
        "id": "9m-6_9lnWc9Y",
        "outputId": "3919874a-c062-4c78-874e-be98246cd497"
      },
      "cell_type": "code",
      "source": [
        "plot_model(model_1, to_file='mlp-mnist.png', show_shapes=True)"
      ],
      "execution_count": null,
      "outputs": [
        {
          "output_type": "execute_result",
          "data": {
            "text/plain": [
              "<IPython.core.display.Image object>"
            ],
            "image/png": "[encoded data removed]"
          },
          "metadata": {},
          "execution_count": 32
        }
      ]
    },
    {
      "metadata": {
        "id": "BS1qUG4qWc9Z"
      },
      "cell_type": "markdown",
      "source": [
        "# 6. Implement MLP model using Keras <a class=\"anchor\" id=\"6\"></a>\n",
        "\n",
        "\n",
        "[Back to Table of Contents](#0.1)\n",
        "\n",
        "\n",
        "- The implementation of MLP model in Keras comprises of three steps:-\n",
        "\n",
        "  - Compiling the model with the compile() method.\n",
        "  \n",
        "  - Training the model with fit() method.\n",
        "  \n",
        "  - Evaluating the model performance with evaluate() method.\n",
        "  \n",
        "  \n",
        "- For detailed discussion on implementation, please refer to my previous kernel [Comprehensive Guide to ANN with Keras](https://www.kaggle.com/prashant111/comprehensive-guide-to-ann-with-keras)"
      ]
    },
    {
      "metadata": {
        "id": "IBBr9nlXWc9Z"
      },
      "cell_type": "markdown",
      "source": [
        "## 6.1 Compile the model with compile() method <a class=\"anchor\" id=\"6.1\"></a>\n",
        "\n",
        "\n",
        "- Compilation of model can be done as follows:"
      ]
    },
    {
      "metadata": {
        "trusted": true,
        "id": "s1ppvh7DWc9a"
      },
      "cell_type": "code",
      "source": [
        "model_1.compile(loss='categorical_crossentropy', \n",
        "              optimizer='adam',\n",
        "              metrics=['accuracy'])"
      ],
      "execution_count": null,
      "outputs": []
    },
    {
      "metadata": {
        "id": "WrXzBt5fWc9a"
      },
      "cell_type": "markdown",
      "source": [
        "### Loss function (categorical_crossentropy)\n",
        "\n",
        "- How far the predicted tensor is from the one-hot ground truth vector is called **loss**.\n",
        "\n",
        "- In this example, we use **categorical_crossentropy** as the loss function. It is the negative of the sum of the product of the target and the logarithm of the prediction. \n",
        "\n",
        "- There are other loss functions in Keras, such as mean_absolute_error and binary_crossentropy. The choice of the loss function is not arbitrary but should be a criterion that the model is learning. \n",
        "\n",
        "- For classification by category, categorical_crossentropy or mean_squared_error is a good choice after the softmax activation layer. The binary_crossentropy loss function is normally used after the sigmoid activation layer while mean_squared_error is an option for tanh output."
      ]
    },
    {
      "metadata": {
        "id": "uCsmF5_TWc9b"
      },
      "cell_type": "markdown",
      "source": [
        "### Optimization (optimizer adam)\n",
        "\n",
        "- With optimization, the objective is to minimize the loss function. The idea is that if the loss is reduced to an acceptable level, the model has indirectly learned the function mapping input to output.\n",
        "\n",
        "- In Keras, there are several choices for optimizers. The most commonly used optimizers are; **Stochastic Gradient Descent (SGD)**, **Adaptive Moments (Adam)** and **Root Mean Squared Propagation (RMSprop)**. \n",
        "\n",
        "- Each optimizer features tunable parameters like learning rate, momentum, and decay. \n",
        "\n",
        "- Adam and RMSprop are variations of SGD with adaptive learning rates. In the proposed classifier network, Adam is used since it has the highest test accuracy."
      ]
    },
    {
      "metadata": {
        "id": "zKbt0U2ZWc9b"
      },
      "cell_type": "markdown",
      "source": [
        "### Metrics (accuracy)\n",
        "\n",
        "- Performance metrics are used to determine if a model has learned the underlying data distribution. The default metric in Keras is loss. \n",
        "\n",
        "- During training, validation, and testing, other metrics such as **accuracy** can also be included. \n",
        "\n",
        "- **Accuracy** is the percent, or fraction, of correct predictions based on ground truth."
      ]
    },
    {
      "metadata": {
        "id": "_B3oyJGQWc9c"
      },
      "cell_type": "markdown",
      "source": [
        "## 6.2 Train the model with fit() method <a class=\"anchor\" id=\"6.2\"></a>"
      ]
    },
    {
      "metadata": {
        "trusted": true,
        "colab": {
          "base_uri": "https://localhost:8080/"
        },
        "id": "2rDD6keyWc9c",
        "outputId": "154f674f-500b-4461-fb2a-f4c87baa827e"
      },
      "cell_type": "code",
      "source": [
        "history = model_1.fit(x_train, y_train, validation_split=0.3, epochs=50, batch_size=batch_size)"
      ],
      "execution_count": null,
      "outputs": [
        {
          "output_type": "stream",
          "name": "stdout",
          "text": [
            "Epoch 1/50\n",
            "329/329 [==============================] - 3s 5ms/step - loss: 0.5066 - accuracy: 0.8439 - val_loss: 0.1912 - val_accuracy: 0.9438\n",
            "Epoch 2/50\n",
            "329/329 [==============================] - 1s 4ms/step - loss: 0.2248 - accuracy: 0.9329 - val_loss: 0.1461 - val_accuracy: 0.9576\n",
            "Epoch 3/50\n",
            "329/329 [==============================] - 1s 4ms/step - loss: 0.1747 - accuracy: 0.9474 - val_loss: 0.1158 - val_accuracy: 0.9651\n",
            "Epoch 4/50\n",
            "329/329 [==============================] - 2s 7ms/step - loss: 0.1433 - accuracy: 0.9571 - val_loss: 0.1104 - val_accuracy: 0.9658\n",
            "Epoch 5/50\n",
            "329/329 [==============================] - 2s 7ms/step - loss: 0.1254 - accuracy: 0.9618 - val_loss: 0.1050 - val_accuracy: 0.9688\n",
            "Epoch 6/50\n",
            "329/329 [==============================] - 3s 8ms/step - loss: 0.1125 - accuracy: 0.9660 - val_loss: 0.0999 - val_accuracy: 0.9704\n",
            "Epoch 7/50\n",
            "329/329 [==============================] - 3s 11ms/step - loss: 0.1000 - accuracy: 0.9693 - val_loss: 0.0919 - val_accuracy: 0.9738\n",
            "Epoch 8/50\n",
            "329/329 [==============================] - 4s 12ms/step - loss: 0.0952 - accuracy: 0.9695 - val_loss: 0.0896 - val_accuracy: 0.9734\n",
            "Epoch 9/50\n",
            "329/329 [==============================] - 3s 9ms/step - loss: 0.0877 - accuracy: 0.9729 - val_loss: 0.0926 - val_accuracy: 0.9733\n",
            "Epoch 10/50\n",
            "329/329 [==============================] - 4s 11ms/step - loss: 0.0814 - accuracy: 0.9746 - val_loss: 0.0928 - val_accuracy: 0.9732\n",
            "Epoch 11/50\n",
            "329/329 [==============================] - 3s 9ms/step - loss: 0.0769 - accuracy: 0.9751 - val_loss: 0.0891 - val_accuracy: 0.9749\n",
            "Epoch 12/50\n",
            "329/329 [==============================] - 3s 8ms/step - loss: 0.0751 - accuracy: 0.9756 - val_loss: 0.0867 - val_accuracy: 0.9753\n",
            "Epoch 13/50\n",
            "329/329 [==============================] - 2s 5ms/step - loss: 0.0710 - accuracy: 0.9775 - val_loss: 0.0923 - val_accuracy: 0.9745\n",
            "Epoch 14/50\n",
            "329/329 [==============================] - 1s 4ms/step - loss: 0.0671 - accuracy: 0.9785 - val_loss: 0.0886 - val_accuracy: 0.9753\n",
            "Epoch 15/50\n",
            "329/329 [==============================] - 1s 4ms/step - loss: 0.0622 - accuracy: 0.9804 - val_loss: 0.0923 - val_accuracy: 0.9759\n",
            "Epoch 16/50\n",
            "329/329 [==============================] - 1s 4ms/step - loss: 0.0602 - accuracy: 0.9811 - val_loss: 0.0883 - val_accuracy: 0.9763\n",
            "Epoch 17/50\n",
            "329/329 [==============================] - 1s 4ms/step - loss: 0.0591 - accuracy: 0.9807 - val_loss: 0.0887 - val_accuracy: 0.9765\n",
            "Epoch 18/50\n",
            "329/329 [==============================] - 1s 4ms/step - loss: 0.0549 - accuracy: 0.9822 - val_loss: 0.0926 - val_accuracy: 0.9762\n",
            "Epoch 19/50\n",
            "329/329 [==============================] - 1s 4ms/step - loss: 0.0546 - accuracy: 0.9817 - val_loss: 0.0921 - val_accuracy: 0.9767\n",
            "Epoch 20/50\n",
            "329/329 [==============================] - 1s 4ms/step - loss: 0.0545 - accuracy: 0.9823 - val_loss: 0.0877 - val_accuracy: 0.9776\n",
            "Epoch 21/50\n",
            "329/329 [==============================] - 1s 4ms/step - loss: 0.0534 - accuracy: 0.9827 - val_loss: 0.0912 - val_accuracy: 0.9764\n",
            "Epoch 22/50\n",
            "329/329 [==============================] - 1s 4ms/step - loss: 0.0504 - accuracy: 0.9831 - val_loss: 0.0912 - val_accuracy: 0.9774\n",
            "Epoch 23/50\n",
            "329/329 [==============================] - 1s 4ms/step - loss: 0.0478 - accuracy: 0.9841 - val_loss: 0.0897 - val_accuracy: 0.9769\n",
            "Epoch 24/50\n",
            "329/329 [==============================] - 1s 4ms/step - loss: 0.0436 - accuracy: 0.9861 - val_loss: 0.0952 - val_accuracy: 0.9769\n",
            "Epoch 25/50\n",
            "329/329 [==============================] - 1s 4ms/step - loss: 0.0485 - accuracy: 0.9846 - val_loss: 0.0913 - val_accuracy: 0.9773\n",
            "Epoch 26/50\n",
            "329/329 [==============================] - 1s 4ms/step - loss: 0.0450 - accuracy: 0.9855 - val_loss: 0.0901 - val_accuracy: 0.9789\n",
            "Epoch 27/50\n",
            "329/329 [==============================] - 1s 4ms/step - loss: 0.0478 - accuracy: 0.9845 - val_loss: 0.0930 - val_accuracy: 0.9773\n",
            "Epoch 28/50\n",
            "329/329 [==============================] - 1s 4ms/step - loss: 0.0447 - accuracy: 0.9850 - val_loss: 0.0933 - val_accuracy: 0.9782\n",
            "Epoch 29/50\n",
            "329/329 [==============================] - 1s 4ms/step - loss: 0.0447 - accuracy: 0.9854 - val_loss: 0.0895 - val_accuracy: 0.9783\n",
            "Epoch 30/50\n",
            "329/329 [==============================] - 1s 4ms/step - loss: 0.0398 - accuracy: 0.9872 - val_loss: 0.0913 - val_accuracy: 0.9783\n",
            "Epoch 31/50\n",
            "329/329 [==============================] - 1s 4ms/step - loss: 0.0387 - accuracy: 0.9876 - val_loss: 0.0912 - val_accuracy: 0.9788\n",
            "Epoch 32/50\n",
            "329/329 [==============================] - 1s 4ms/step - loss: 0.0411 - accuracy: 0.9864 - val_loss: 0.0926 - val_accuracy: 0.9782\n",
            "Epoch 33/50\n",
            "329/329 [==============================] - 1s 4ms/step - loss: 0.0402 - accuracy: 0.9871 - val_loss: 0.0920 - val_accuracy: 0.9777\n",
            "Epoch 34/50\n",
            "329/329 [==============================] - 1s 4ms/step - loss: 0.0391 - accuracy: 0.9874 - val_loss: 0.0980 - val_accuracy: 0.9773\n",
            "Epoch 35/50\n",
            "329/329 [==============================] - 1s 4ms/step - loss: 0.0409 - accuracy: 0.9867 - val_loss: 0.0937 - val_accuracy: 0.9777\n",
            "Epoch 36/50\n",
            "329/329 [==============================] - 1s 4ms/step - loss: 0.0352 - accuracy: 0.9886 - val_loss: 0.0974 - val_accuracy: 0.9774\n",
            "Epoch 37/50\n",
            "329/329 [==============================] - 1s 4ms/step - loss: 0.0361 - accuracy: 0.9881 - val_loss: 0.1032 - val_accuracy: 0.9772\n",
            "Epoch 38/50\n",
            "329/329 [==============================] - 1s 4ms/step - loss: 0.0352 - accuracy: 0.9889 - val_loss: 0.0968 - val_accuracy: 0.9779\n",
            "Epoch 39/50\n",
            "329/329 [==============================] - 1s 4ms/step - loss: 0.0361 - accuracy: 0.9882 - val_loss: 0.0946 - val_accuracy: 0.9786\n",
            "Epoch 40/50\n",
            "329/329 [==============================] - 1s 4ms/step - loss: 0.0364 - accuracy: 0.9880 - val_loss: 0.0990 - val_accuracy: 0.9781\n",
            "Epoch 41/50\n",
            "329/329 [==============================] - 1s 4ms/step - loss: 0.0374 - accuracy: 0.9878 - val_loss: 0.1000 - val_accuracy: 0.9774\n",
            "Epoch 42/50\n",
            "329/329 [==============================] - 1s 4ms/step - loss: 0.0339 - accuracy: 0.9895 - val_loss: 0.1022 - val_accuracy: 0.9774\n",
            "Epoch 43/50\n",
            "329/329 [==============================] - 1s 4ms/step - loss: 0.0347 - accuracy: 0.9889 - val_loss: 0.0927 - val_accuracy: 0.9777\n",
            "Epoch 44/50\n",
            "329/329 [==============================] - 1s 4ms/step - loss: 0.0349 - accuracy: 0.9886 - val_loss: 0.0987 - val_accuracy: 0.9782\n",
            "Epoch 45/50\n",
            "329/329 [==============================] - 1s 4ms/step - loss: 0.0358 - accuracy: 0.9886 - val_loss: 0.0951 - val_accuracy: 0.9777\n",
            "Epoch 46/50\n",
            "329/329 [==============================] - 1s 4ms/step - loss: 0.0316 - accuracy: 0.9899 - val_loss: 0.0950 - val_accuracy: 0.9791\n",
            "Epoch 47/50\n",
            "329/329 [==============================] - 1s 4ms/step - loss: 0.0321 - accuracy: 0.9903 - val_loss: 0.0959 - val_accuracy: 0.9788\n",
            "Epoch 48/50\n",
            "329/329 [==============================] - 1s 4ms/step - loss: 0.0330 - accuracy: 0.9894 - val_loss: 0.1028 - val_accuracy: 0.9776\n",
            "Epoch 49/50\n",
            "329/329 [==============================] - 1s 4ms/step - loss: 0.0360 - accuracy: 0.9890 - val_loss: 0.1016 - val_accuracy: 0.9778\n",
            "Epoch 50/50\n",
            "329/329 [==============================] - 2s 5ms/step - loss: 0.0325 - accuracy: 0.9893 - val_loss: 0.1016 - val_accuracy: 0.9790\n"
          ]
        }
      ]
    },
    {
      "metadata": {
        "id": "793EHVBHWc9d"
      },
      "cell_type": "markdown",
      "source": [
        "## 6.3 Evaluating model performance with evaluate() method <a class=\"anchor\" id=\"6.3\"></a>"
      ]
    },
    {
      "metadata": {
        "trusted": true,
        "colab": {
          "base_uri": "https://localhost:8080/"
        },
        "id": "triCxoYKWc9d",
        "outputId": "a080d2a7-4e78-4c6e-a436-f6121f264c57"
      },
      "cell_type": "code",
      "source": [
        "loss, acc = model_1.evaluate(x_test, y_test, batch_size=batch_size)\n",
        "print(\"\\nTest accuracy for the model_1 : %.1f%%\" % (100.0 * acc))"
      ],
      "execution_count": null,
      "outputs": [
        {
          "output_type": "stream",
          "name": "stdout",
          "text": [
            "79/79 [==============================] - 0s 3ms/step - loss: 0.0856 - accuracy: 0.9815\n",
            "\n",
            "Test accuracy for the model_1 : 98.2%\n"
          ]
        }
      ]
    },
    {
      "cell_type": "code",
      "source": [
        "# Draw the loss and accuracy curves of the training set and the validation set.\n",
        "# Can judge whether it is under-fitting or over-fitting\n",
        "fig, ax = plt.subplots(2,1)\n",
        "ax[0].plot(history.history['loss'], color='b', label=\"Training loss\")\n",
        "ax[0].plot(history.history['val_loss'], color='r', label=\"validation loss\",axes =ax[0])\n",
        "legend = ax[0].legend(loc='best', shadow=True)\n",
        "\n",
        "ax[1].plot(history.history['accuracy'], color='b', label=\"Training accuracy\")\n",
        "ax[1].plot(history.history['val_accuracy'], color='r',label=\"Validation accuracy\")\n",
        "legend = ax[1].legend(loc='best', shadow=True)"
      ],
      "metadata": {
        "colab": {
          "base_uri": "https://localhost:8080/",
          "height": 265
        },
        "id": "ikY1mqjKAPYA",
        "outputId": "fdfeead1-bfb6-45bd-b9e2-3898d18b3189"
      },
      "execution_count": null,
      "outputs": [
        {
          "output_type": "display_data",
          "data": {
            "text/plain": [
              "<Figure size 432x288 with 2 Axes>"
            ],
            "image/png": "[encoded data removed]"
          },
          "metadata": {
            "needs_background": "light"
          }
        }
      ]
    },
    {
      "cell_type": "code",
      "source": [
        "from keras.callbacks import ReduceLROnPlateau\n",
        "# Define Optimizer\n",
        "optimizer = RMSprop(lr=0.001, rho=0.9, epsilon=1e-08, decay=0.0)\n",
        "\n",
        "# Compile model\n",
        "model_2 = model_1\n",
        "model_2.compile(optimizer = optimizer , loss = \"categorical_crossentropy\", metrics=[\"accuracy\"])\n",
        "\n",
        "# Audjusting learning rate\n",
        "learning_rate_reduction = ReduceLROnPlateau(monitor='val_loss',  # Reduce learning rate when a metric has stopped improving (when training is not progressing). Models often benefit from reducing the learning rate by a factor of 2-10 once learning stagnates. \n",
        "                                            patience=3,          # This scheduler reads a metrics quantity and if no improvement is seen for a ‘patience’ number of epochs, the learning rate is reduced.\n",
        "                                            verbose=1, \n",
        "                                            factor=0.5, \n",
        "                                            min_lr=0.00001)\n",
        "\n",
        "history = model_2.fit(x_train, y_train, validation_split=0.3, epochs=50, batch_size=batch_size, callbacks=[learning_rate_reduction])"
      ],
      "metadata": {
        "colab": {
          "base_uri": "https://localhost:8080/"
        },
        "id": "3MKn0WFhFeju",
        "outputId": "9d039fae-54f0-4306-d210-c468ed5a5ab1"
      },
      "execution_count": null,
      "outputs": [
        {
          "output_type": "stream",
          "name": "stdout",
          "text": [
            "Epoch 1/50\n"
          ]
        },
        {
          "output_type": "stream",
          "name": "stderr",
          "text": [
            "/usr/local/lib/python3.7/dist-packages/keras/optimizer_v2/rmsprop.py:130: UserWarning: The `lr` argument is deprecated, use `learning_rate` instead.\n",
            "  super(RMSprop, self).__init__(name, **kwargs)\n"
          ]
        },
        {
          "output_type": "stream",
          "name": "stdout",
          "text": [
            "329/329 [==============================] - 2s 5ms/step - loss: 0.0271 - accuracy: 0.9921 - val_loss: 0.1281 - val_accuracy: 0.9792 - lr: 0.0010\n",
            "Epoch 2/50\n",
            "329/329 [==============================] - 2s 5ms/step - loss: 0.0258 - accuracy: 0.9921 - val_loss: 0.1408 - val_accuracy: 0.9796 - lr: 0.0010\n",
            "Epoch 3/50\n",
            "329/329 [==============================] - 1s 5ms/step - loss: 0.0274 - accuracy: 0.9924 - val_loss: 0.1446 - val_accuracy: 0.9792 - lr: 0.0010\n",
            "Epoch 4/50\n",
            "323/329 [============================>.] - ETA: 0s - loss: 0.0251 - accuracy: 0.9928\n",
            "Epoch 4: ReduceLROnPlateau reducing learning rate to 0.0005000000237487257.\n",
            "329/329 [==============================] - 1s 4ms/step - loss: 0.0248 - accuracy: 0.9929 - val_loss: 0.1525 - val_accuracy: 0.9793 - lr: 0.0010\n",
            "Epoch 5/50\n",
            "329/329 [==============================] - 1s 4ms/step - loss: 0.0216 - accuracy: 0.9935 - val_loss: 0.1531 - val_accuracy: 0.9792 - lr: 5.0000e-04\n",
            "Epoch 6/50\n",
            "329/329 [==============================] - 1s 5ms/step - loss: 0.0215 - accuracy: 0.9940 - val_loss: 0.1603 - val_accuracy: 0.9794 - lr: 5.0000e-04\n",
            "Epoch 7/50\n",
            "328/329 [============================>.] - ETA: 0s - loss: 0.0204 - accuracy: 0.9942\n",
            "Epoch 7: ReduceLROnPlateau reducing learning rate to 0.0002500000118743628.\n",
            "329/329 [==============================] - 1s 4ms/step - loss: 0.0204 - accuracy: 0.9942 - val_loss: 0.1633 - val_accuracy: 0.9794 - lr: 5.0000e-04\n",
            "Epoch 8/50\n",
            "329/329 [==============================] - 1s 4ms/step - loss: 0.0194 - accuracy: 0.9946 - val_loss: 0.1602 - val_accuracy: 0.9797 - lr: 2.5000e-04\n",
            "Epoch 9/50\n",
            "329/329 [==============================] - 2s 5ms/step - loss: 0.0175 - accuracy: 0.9952 - val_loss: 0.1617 - val_accuracy: 0.9793 - lr: 2.5000e-04\n",
            "Epoch 10/50\n",
            "328/329 [============================>.] - ETA: 0s - loss: 0.0184 - accuracy: 0.9950\n",
            "Epoch 10: ReduceLROnPlateau reducing learning rate to 0.0001250000059371814.\n",
            "329/329 [==============================] - 2s 6ms/step - loss: 0.0184 - accuracy: 0.9950 - val_loss: 0.1628 - val_accuracy: 0.9795 - lr: 2.5000e-04\n",
            "Epoch 11/50\n",
            "329/329 [==============================] - 1s 4ms/step - loss: 0.0179 - accuracy: 0.9953 - val_loss: 0.1636 - val_accuracy: 0.9800 - lr: 1.2500e-04\n",
            "Epoch 12/50\n",
            "329/329 [==============================] - 1s 4ms/step - loss: 0.0160 - accuracy: 0.9955 - val_loss: 0.1639 - val_accuracy: 0.9801 - lr: 1.2500e-04\n",
            "Epoch 13/50\n",
            "324/329 [============================>.] - ETA: 0s - loss: 0.0147 - accuracy: 0.9959\n",
            "Epoch 13: ReduceLROnPlateau reducing learning rate to 6.25000029685907e-05.\n",
            "329/329 [==============================] - 1s 4ms/step - loss: 0.0145 - accuracy: 0.9960 - val_loss: 0.1667 - val_accuracy: 0.9800 - lr: 1.2500e-04\n",
            "Epoch 14/50\n",
            "329/329 [==============================] - 1s 4ms/step - loss: 0.0168 - accuracy: 0.9955 - val_loss: 0.1680 - val_accuracy: 0.9798 - lr: 6.2500e-05\n",
            "Epoch 15/50\n",
            "329/329 [==============================] - 1s 4ms/step - loss: 0.0145 - accuracy: 0.9961 - val_loss: 0.1670 - val_accuracy: 0.9797 - lr: 6.2500e-05\n",
            "Epoch 16/50\n",
            "323/329 [============================>.] - ETA: 0s - loss: 0.0158 - accuracy: 0.9957\n",
            "Epoch 16: ReduceLROnPlateau reducing learning rate to 3.125000148429535e-05.\n",
            "329/329 [==============================] - 1s 4ms/step - loss: 0.0159 - accuracy: 0.9956 - val_loss: 0.1685 - val_accuracy: 0.9798 - lr: 6.2500e-05\n",
            "Epoch 17/50\n",
            "329/329 [==============================] - 2s 5ms/step - loss: 0.0145 - accuracy: 0.9960 - val_loss: 0.1681 - val_accuracy: 0.9798 - lr: 3.1250e-05\n",
            "Epoch 18/50\n",
            "329/329 [==============================] - 1s 4ms/step - loss: 0.0164 - accuracy: 0.9960 - val_loss: 0.1687 - val_accuracy: 0.9797 - lr: 3.1250e-05\n",
            "Epoch 19/50\n",
            "319/329 [============================>.] - ETA: 0s - loss: 0.0146 - accuracy: 0.9958\n",
            "Epoch 19: ReduceLROnPlateau reducing learning rate to 1.5625000742147677e-05.\n",
            "329/329 [==============================] - 2s 5ms/step - loss: 0.0145 - accuracy: 0.9958 - val_loss: 0.1691 - val_accuracy: 0.9797 - lr: 3.1250e-05\n",
            "Epoch 20/50\n",
            "329/329 [==============================] - 1s 4ms/step - loss: 0.0149 - accuracy: 0.9956 - val_loss: 0.1688 - val_accuracy: 0.9801 - lr: 1.5625e-05\n",
            "Epoch 21/50\n",
            "329/329 [==============================] - 1s 4ms/step - loss: 0.0152 - accuracy: 0.9961 - val_loss: 0.1694 - val_accuracy: 0.9799 - lr: 1.5625e-05\n",
            "Epoch 22/50\n",
            "325/329 [============================>.] - ETA: 0s - loss: 0.0144 - accuracy: 0.9962\n",
            "Epoch 22: ReduceLROnPlateau reducing learning rate to 1e-05.\n",
            "329/329 [==============================] - 2s 5ms/step - loss: 0.0145 - accuracy: 0.9962 - val_loss: 0.1698 - val_accuracy: 0.9798 - lr: 1.5625e-05\n",
            "Epoch 23/50\n",
            "329/329 [==============================] - 1s 5ms/step - loss: 0.0161 - accuracy: 0.9959 - val_loss: 0.1699 - val_accuracy: 0.9798 - lr: 1.0000e-05\n",
            "Epoch 24/50\n",
            "329/329 [==============================] - 1s 4ms/step - loss: 0.0141 - accuracy: 0.9964 - val_loss: 0.1697 - val_accuracy: 0.9798 - lr: 1.0000e-05\n",
            "Epoch 25/50\n",
            "329/329 [==============================] - 1s 5ms/step - loss: 0.0139 - accuracy: 0.9961 - val_loss: 0.1702 - val_accuracy: 0.9799 - lr: 1.0000e-05\n",
            "Epoch 26/50\n",
            "329/329 [==============================] - 1s 4ms/step - loss: 0.0156 - accuracy: 0.9958 - val_loss: 0.1702 - val_accuracy: 0.9799 - lr: 1.0000e-05\n",
            "Epoch 27/50\n",
            "329/329 [==============================] - 1s 4ms/step - loss: 0.0138 - accuracy: 0.9961 - val_loss: 0.1701 - val_accuracy: 0.9799 - lr: 1.0000e-05\n",
            "Epoch 28/50\n",
            "329/329 [==============================] - 1s 4ms/step - loss: 0.0143 - accuracy: 0.9962 - val_loss: 0.1701 - val_accuracy: 0.9799 - lr: 1.0000e-05\n",
            "Epoch 29/50\n",
            "329/329 [==============================] - 2s 5ms/step - loss: 0.0159 - accuracy: 0.9958 - val_loss: 0.1695 - val_accuracy: 0.9799 - lr: 1.0000e-05\n",
            "Epoch 30/50\n",
            "329/329 [==============================] - 2s 6ms/step - loss: 0.0124 - accuracy: 0.9963 - val_loss: 0.1701 - val_accuracy: 0.9799 - lr: 1.0000e-05\n",
            "Epoch 31/50\n",
            "329/329 [==============================] - 2s 5ms/step - loss: 0.0153 - accuracy: 0.9958 - val_loss: 0.1700 - val_accuracy: 0.9800 - lr: 1.0000e-05\n",
            "Epoch 32/50\n",
            "329/329 [==============================] - 1s 5ms/step - loss: 0.0147 - accuracy: 0.9957 - val_loss: 0.1703 - val_accuracy: 0.9799 - lr: 1.0000e-05\n",
            "Epoch 33/50\n",
            "329/329 [==============================] - 1s 4ms/step - loss: 0.0132 - accuracy: 0.9961 - val_loss: 0.1702 - val_accuracy: 0.9797 - lr: 1.0000e-05\n",
            "Epoch 34/50\n",
            "329/329 [==============================] - 2s 6ms/step - loss: 0.0145 - accuracy: 0.9962 - val_loss: 0.1703 - val_accuracy: 0.9798 - lr: 1.0000e-05\n",
            "Epoch 35/50\n",
            "329/329 [==============================] - 1s 5ms/step - loss: 0.0145 - accuracy: 0.9959 - val_loss: 0.1703 - val_accuracy: 0.9797 - lr: 1.0000e-05\n",
            "Epoch 36/50\n",
            "329/329 [==============================] - 1s 5ms/step - loss: 0.0154 - accuracy: 0.9962 - val_loss: 0.1700 - val_accuracy: 0.9798 - lr: 1.0000e-05\n",
            "Epoch 37/50\n",
            "329/329 [==============================] - 2s 5ms/step - loss: 0.0166 - accuracy: 0.9960 - val_loss: 0.1700 - val_accuracy: 0.9798 - lr: 1.0000e-05\n",
            "Epoch 38/50\n",
            "329/329 [==============================] - 1s 4ms/step - loss: 0.0140 - accuracy: 0.9962 - val_loss: 0.1699 - val_accuracy: 0.9796 - lr: 1.0000e-05\n",
            "Epoch 39/50\n",
            "329/329 [==============================] - 1s 5ms/step - loss: 0.0139 - accuracy: 0.9958 - val_loss: 0.1701 - val_accuracy: 0.9797 - lr: 1.0000e-05\n",
            "Epoch 40/50\n",
            "329/329 [==============================] - 1s 4ms/step - loss: 0.0141 - accuracy: 0.9959 - val_loss: 0.1703 - val_accuracy: 0.9797 - lr: 1.0000e-05\n",
            "Epoch 41/50\n",
            "329/329 [==============================] - 2s 5ms/step - loss: 0.0146 - accuracy: 0.9960 - val_loss: 0.1704 - val_accuracy: 0.9797 - lr: 1.0000e-05\n",
            "Epoch 42/50\n",
            "329/329 [==============================] - 2s 5ms/step - loss: 0.0152 - accuracy: 0.9958 - val_loss: 0.1706 - val_accuracy: 0.9797 - lr: 1.0000e-05\n",
            "Epoch 43/50\n",
            "329/329 [==============================] - 2s 5ms/step - loss: 0.0151 - accuracy: 0.9957 - val_loss: 0.1708 - val_accuracy: 0.9798 - lr: 1.0000e-05\n",
            "Epoch 44/50\n",
            "329/329 [==============================] - 2s 6ms/step - loss: 0.0145 - accuracy: 0.9960 - val_loss: 0.1705 - val_accuracy: 0.9797 - lr: 1.0000e-05\n",
            "Epoch 45/50\n",
            "329/329 [==============================] - 2s 5ms/step - loss: 0.0154 - accuracy: 0.9960 - val_loss: 0.1707 - val_accuracy: 0.9798 - lr: 1.0000e-05\n",
            "Epoch 46/50\n",
            "329/329 [==============================] - 1s 4ms/step - loss: 0.0139 - accuracy: 0.9962 - val_loss: 0.1711 - val_accuracy: 0.9797 - lr: 1.0000e-05\n",
            "Epoch 47/50\n",
            "329/329 [==============================] - 1s 4ms/step - loss: 0.0141 - accuracy: 0.9960 - val_loss: 0.1713 - val_accuracy: 0.9798 - lr: 1.0000e-05\n",
            "Epoch 48/50\n",
            "329/329 [==============================] - 2s 5ms/step - loss: 0.0144 - accuracy: 0.9960 - val_loss: 0.1710 - val_accuracy: 0.9799 - lr: 1.0000e-05\n",
            "Epoch 49/50\n",
            "329/329 [==============================] - 2s 5ms/step - loss: 0.0158 - accuracy: 0.9960 - val_loss: 0.1712 - val_accuracy: 0.9798 - lr: 1.0000e-05\n",
            "Epoch 50/50\n",
            "329/329 [==============================] - 1s 5ms/step - loss: 0.0163 - accuracy: 0.9958 - val_loss: 0.1715 - val_accuracy: 0.9798 - lr: 1.0000e-05\n"
          ]
        }
      ]
    },
    {
      "cell_type": "code",
      "source": [
        "# Draw the loss and accuracy curves of the training set and the validation set.\n",
        "# Can judge whether it is under-fitting or over-fitting\n",
        "fig, ax = plt.subplots(2,1)\n",
        "ax[0].plot(history.history['loss'], color='b', label=\"Training loss\")\n",
        "ax[0].plot(history.history['val_loss'], color='r', label=\"validation loss\",axes =ax[0])\n",
        "legend = ax[0].legend(loc='best', shadow=True)\n",
        "\n",
        "ax[1].plot(history.history['accuracy'], color='b', label=\"Training accuracy\")\n",
        "ax[1].plot(history.history['val_accuracy'], color='r',label=\"Validation accuracy\")\n",
        "legend = ax[1].legend(loc='best', shadow=True)"
      ],
      "metadata": {
        "colab": {
          "base_uri": "https://localhost:8080/",
          "height": 265
        },
        "id": "2mrJ-BV3HYH3",
        "outputId": "20f83eb0-984e-4772-f83b-7093c1864b6e"
      },
      "execution_count": null,
      "outputs": [
        {
          "output_type": "display_data",
          "data": {
            "text/plain": [
              "<Figure size 432x288 with 2 Axes>"
            ],
            "image/png": "[encoded data removed]"
          },
          "metadata": {
            "needs_background": "light"
          }
        }
      ]
    },
    {
      "cell_type": "code",
      "source": [
        "loss, acc = model_2.evaluate(x_test, y_test, batch_size=batch_size)\n",
        "print(\"\\nTest accuracy for the model_2 : %.1f%%\" % (100.0 * acc))"
      ],
      "metadata": {
        "colab": {
          "base_uri": "https://localhost:8080/"
        },
        "id": "kLXqVqgKMDzw",
        "outputId": "89e6928c-c3e0-45a8-f040-d748265b502a"
      },
      "execution_count": null,
      "outputs": [
        {
          "output_type": "stream",
          "name": "stdout",
          "text": [
            "79/79 [==============================] - 0s 3ms/step - loss: 0.1398 - accuracy: 0.9831\n",
            "\n",
            "Test accuracy for the model_2 : 98.3%\n"
          ]
        }
      ]
    },
    {
      "cell_type": "code",
      "source": [
        "from keras.callbacks import ReduceLROnPlateau, EarlyStopping\n",
        "# Define Optimizer\n",
        "optimizer = RMSprop(lr=0.001, rho=0.9, epsilon=1e-08, decay=0.0)\n",
        "\n",
        "# Compile model\n",
        "model_3 = model_1\n",
        "model_3.compile(optimizer = optimizer , loss = \"categorical_crossentropy\", metrics=[\"accuracy\"])\n",
        "\n",
        "# Audjusting learning rate\n",
        "learning_rate_reduction = ReduceLROnPlateau(monitor='val_loss', \n",
        "                                            patience=3, \n",
        "                                            verbose=1, \n",
        "                                            factor=0.5, \n",
        "                                            min_lr=0.00001)\n",
        "# Adding early stopping\n",
        "early_stop = EarlyStopping(monitor='val_loss', min_delta=0, patience=5, mode='auto')\n",
        "\n",
        "history = model_3.fit(x_train, y_train, validation_split=0.3, epochs=50, batch_size=batch_size, callbacks=[learning_rate_reduction, early_stop])\n",
        "\n"
      ],
      "metadata": {
        "colab": {
          "base_uri": "https://localhost:8080/"
        },
        "id": "EegwnPOxHnZY",
        "outputId": "d3e682b0-f290-4a8d-de65-b62bbd6b41cc"
      },
      "execution_count": null,
      "outputs": [
        {
          "output_type": "stream",
          "name": "stdout",
          "text": [
            "Epoch 1/50\n"
          ]
        },
        {
          "output_type": "stream",
          "name": "stderr",
          "text": [
            "/usr/local/lib/python3.7/dist-packages/keras/optimizer_v2/rmsprop.py:130: UserWarning: The `lr` argument is deprecated, use `learning_rate` instead.\n",
            "  super(RMSprop, self).__init__(name, **kwargs)\n"
          ]
        },
        {
          "output_type": "stream",
          "name": "stdout",
          "text": [
            "329/329 [==============================] - 2s 5ms/step - loss: 0.0244 - accuracy: 0.9936 - val_loss: 0.1883 - val_accuracy: 0.9793 - lr: 0.0010\n",
            "Epoch 2/50\n",
            "329/329 [==============================] - 2s 5ms/step - loss: 0.0263 - accuracy: 0.9931 - val_loss: 0.1880 - val_accuracy: 0.9778 - lr: 0.0010\n",
            "Epoch 3/50\n",
            "329/329 [==============================] - 2s 5ms/step - loss: 0.0275 - accuracy: 0.9930 - val_loss: 0.1875 - val_accuracy: 0.9786 - lr: 0.0010\n",
            "Epoch 4/50\n",
            "329/329 [==============================] - 2s 5ms/step - loss: 0.0273 - accuracy: 0.9928 - val_loss: 0.1780 - val_accuracy: 0.9788 - lr: 0.0010\n",
            "Epoch 5/50\n",
            "329/329 [==============================] - 2s 5ms/step - loss: 0.0264 - accuracy: 0.9932 - val_loss: 0.1799 - val_accuracy: 0.9797 - lr: 0.0010\n",
            "Epoch 6/50\n",
            "329/329 [==============================] - 1s 5ms/step - loss: 0.0274 - accuracy: 0.9932 - val_loss: 0.1997 - val_accuracy: 0.9779 - lr: 0.0010\n",
            "Epoch 7/50\n",
            "321/329 [============================>.] - ETA: 0s - loss: 0.0258 - accuracy: 0.9936\n",
            "Epoch 7: ReduceLROnPlateau reducing learning rate to 0.0005000000237487257.\n",
            "329/329 [==============================] - 1s 5ms/step - loss: 0.0258 - accuracy: 0.9935 - val_loss: 0.1922 - val_accuracy: 0.9802 - lr: 0.0010\n",
            "Epoch 8/50\n",
            "329/329 [==============================] - 2s 5ms/step - loss: 0.0240 - accuracy: 0.9939 - val_loss: 0.1921 - val_accuracy: 0.9793 - lr: 5.0000e-04\n",
            "Epoch 9/50\n",
            "329/329 [==============================] - 1s 4ms/step - loss: 0.0197 - accuracy: 0.9950 - val_loss: 0.2001 - val_accuracy: 0.9794 - lr: 5.0000e-04\n"
          ]
        }
      ]
    },
    {
      "cell_type": "code",
      "source": [
        "# Draw the loss and accuracy curves of the training set and the validation set.\n",
        "# Can judge whether it is under-fitting or over-fitting\n",
        "fig, ax = plt.subplots(2,1)\n",
        "ax[0].plot(history.history['loss'], color='b', label=\"Training loss\")\n",
        "ax[0].plot(history.history['val_loss'], color='r', label=\"validation loss\",axes =ax[0])\n",
        "legend = ax[0].legend(loc='best', shadow=True)\n",
        "\n",
        "ax[1].plot(history.history['accuracy'], color='b', label=\"Training accuracy\")\n",
        "ax[1].plot(history.history['val_accuracy'], color='r',label=\"Validation accuracy\")\n",
        "legend = ax[1].legend(loc='best', shadow=True)"
      ],
      "metadata": {
        "colab": {
          "base_uri": "https://localhost:8080/",
          "height": 265
        },
        "id": "tnCvtb4pIL9w",
        "outputId": "219060bd-076c-435f-c517-1511720e6180"
      },
      "execution_count": null,
      "outputs": [
        {
          "output_type": "display_data",
          "data": {
            "text/plain": [
              "<Figure size 432x288 with 2 Axes>"
            ],
            "image/png": "[encoded data removed]"
          },
          "metadata": {
            "needs_background": "light"
          }
        }
      ]
    },
    {
      "cell_type": "code",
      "source": [
        "loss, acc = model_3.evaluate(x_test, y_test, batch_size=batch_size)\n",
        "print(\"\\nTest accuracy for the model_3 : %.1f%%\" % (100.0 * acc))"
      ],
      "metadata": {
        "colab": {
          "base_uri": "https://localhost:8080/"
        },
        "id": "Cx_JMjWLJi5r",
        "outputId": "bd325ca6-8933-424c-dec6-46fbabb440f8"
      },
      "execution_count": null,
      "outputs": [
        {
          "output_type": "stream",
          "name": "stdout",
          "text": [
            "79/79 [==============================] - 0s 3ms/step - loss: 0.1595 - accuracy: 0.9826\n",
            "\n",
            "Test accuracy for the model_3 : 98.3%\n"
          ]
        }
      ]
    },
    {
      "metadata": {
        "id": "6fHDpBDfWc9e"
      },
      "cell_type": "markdown",
      "source": [
        "# 7. Overfitting and Regularization <a class=\"anchor\" id=\"7\"></a>\n",
        "\n",
        "[Back to Table of Contents](#0.1)\n",
        "\n",
        "\n",
        "- A neural network has the property to memorize the characteristics of training data. This is called **overfitting**.\n",
        "\n",
        "- In such a case, the network fails to generalize when subject to the test data.\n",
        "\n",
        "- To avoid this tendency, the model uses a regularizing layer or function. A commonly used regularizing layer is referred to as a **Dropout layer**.\n",
        "\n",
        "- Given a dropout rate (dropout=0.45), the **Dropout layer** randomly removes the fraction of units from participating in the next layer. For example, if the first layer has 256 units, after dropout=0.45 is applied, only (1 - 0.45) * 256 units = 140 units from layer 1 participate in layer 2.\n",
        "\n",
        "- The Dropout layer makes neural networks robust to unforeseen input data because the network is trained to predict correctly, even if some units are missing. \n",
        "\n",
        "- The dropout is not used in the output layer and it is only active during training. Moreover, dropout is not present during prediction.\n",
        "\n",
        "- There are regularizers that can be used other than dropouts like l1 or l2. In Keras, the bias, weight and activation output can be regularized per layer. - l1 and l2 favor smaller parameter values by adding a penalty function. Both l1 and l2 enforce the penalty using a fraction of the sum of absolute (l1) or square (l2) of parameter values. \n",
        "\n",
        "- So, the penalty function forces the optimizer to find parameter values that are small. Neural networks with small parameter values are more insensitive to the presence of noise from within the input data.\n",
        "\n",
        "- So, the l2 weight regularizer with fraction=0.001 can be implemented as:"
      ]
    },
    {
      "metadata": {
        "trusted": true,
        "id": "vLG_srJPWc9f",
        "colab": {
          "base_uri": "https://localhost:8080/",
          "height": 53
        },
        "outputId": "4dada951-f560-4f8e-9c71-99ddca8f52fc"
      },
      "cell_type": "code",
      "source": [
        "# from keras.regularizers import l2\n",
        "# model.add(Dense(hidden_units,\n",
        "#                kernel_regularizer=l2(0.001),\n",
        "#                input_dim=input_size))\n",
        "\n",
        "'''#Regularizers :\n",
        "from tensorflow.keras.regularizers import l2, l1\n",
        "model.add(tf.keras.layers.Dense(128, activation='relu'))\n",
        "model.add(tf.keras.layers.Dropout(0.2))\n",
        "model.add(tf.keras.layers.Dense(4, activation='relu', kernel_regularizer=l1(l=0.1)))\n",
        "model.add(tf.keras.layers.Dense(4, activation='relu', kernel_regularizer=tensorflow.keras.regularizers.l1_l2(l1=0.1, l2=0.01)))\n",
        "'''"
      ],
      "execution_count": null,
      "outputs": [
        {
          "output_type": "execute_result",
          "data": {
            "text/plain": [
              "\"#Regularizers :\\nfrom tensorflow.keras.regularizers import l2, l1\\nmodel.add(tf.keras.layers.Dense(128, activation='relu'))\\nmodel.add(tf.keras.layers.Dropout(0.2))\\nmodel.add(tf.keras.layers.Dense(4, activation='relu', kernel_regularizer=l1(l=0.1)))\\nmodel.add(tf.keras.layers.Dense(4, activation='relu', kernel_regularizer=tensorflow.keras.regularizers.l1_l2(l1=0.1, l2=0.01)))\\n\""
            ],
            "application/vnd.google.colaboratory.intrinsic+json": {
              "type": "string"
            }
          },
          "metadata": {},
          "execution_count": 43
        }
      ]
    },
    {
      "metadata": {
        "id": "PWPLp_rJWc9g"
      },
      "cell_type": "markdown",
      "source": [
        "- No additional layer is added if l1 or l2 regularization is used. The regularization is imposed in the Dense layer internally. For the proposed model, dropout still has a better performance than l2."
      ]
    },
    {
      "cell_type": "markdown",
      "source": [
        "## 8. Confusion-matrix <a class=\"anchor\" id=\"10\"></a>\n",
        "\n",
        "[Back to Table of Contents](#0.1)\n",
        "\n",
        "\n",
        "- In Machine Learning, a very useful tool to evaluate the model is **Confusion Matrix**.\n",
        "\n",
        "- It is a table with rows and columns that count the predictions in comparison with the real values. \n",
        "\n",
        "- This table can be used to understand the performance of the model. \n",
        "\n",
        "- It is very useful to show explicitly when one class is confused with another. \n",
        "\n",
        "- A confusion matrix for a binary classifier is shown below:-"
      ],
      "metadata": {
        "id": "TbuZRo4ibUq8"
      }
    },
    {
      "cell_type": "markdown",
      "source": [
        "![Confusion-Matrix for a Binary Classifier](https://miro.medium.com/max/807/1*UIFVpCx4h1yW1WqRS-2C2w.png)"
      ],
      "metadata": {
        "id": "OgCMnQb7bbjO"
      }
    },
    {
      "cell_type": "markdown",
      "source": [
        "- **True Positives (TP)**, **True Negatives (TN)**, **False Positives (FP)** and **False Negatives (FN)** are the four different possible outcomes of a single prediction for a two-class case with classes “1” (“positive”) and “0” (“negative”).\n",
        "\n",
        "- A **False Positive (FP)** is when the outcome is incorrectly classified as positive, when it is in fact negative. A **False Negative (FN)** is when the outcome is incorrectly classified as negative when it is in fact positive. **True Positives (TP)** and **True Negatives (TN)** are obviously correct classifications.\n",
        "\n",
        "- With this confusion matrix, the accuracy can be calculated by adding the values of the diagonal and dividing them by the total:\n",
        "\n",
        "**Accuracy = (TP + TN) / (TP + FP + FN + TN)**\n",
        "\n",
        "\n",
        "- There is another metric called **Sensitivity (or recall)** that tells us how well the model avoids false negatives:\n",
        "\n",
        "**Sensitivity = TP / (TP + FN)**\n",
        "\n",
        "\n",
        "- From the confusion matrix, several other metrics can be obtained.\n",
        "\n",
        "- But in this case, there are 10 classes instead of 2. So, in this case, Scikit-learn package can be used to evaluate the quality of the model by calculating the confusion matrix.\n",
        "\n",
        "- The following code can be used to generate the confusion-matrix:"
      ],
      "metadata": {
        "id": "UimvRZ-3ba1H"
      }
    },
    {
      "cell_type": "code",
      "source": [
        "import itertools\n",
        "# Plot confusion matrix \n",
        "# Note: This code snippet for confusion-matrix is taken directly from the SKLEARN website.\n",
        "def plot_confusion_matrix(cm, classes,\n",
        "                          normalize=False,\n",
        "                          title='Confusion matrix',\n",
        "                          cmap=plt.cm.Blues):\n",
        "    \"\"\"\n",
        "    This function prints and plots the confusion matrix.\n",
        "    Normalization can be applied by setting `normalize=True`.\n",
        "    \"\"\"\n",
        "    plt.imshow(cm, interpolation='nearest', cmap=cmap)\n",
        "    plt.title(title)\n",
        "    plt.colorbar()\n",
        "    tick_marks = np.arange(len(classes))\n",
        "    plt.xticks(tick_marks, classes, rotation=30)\n",
        "    plt.yticks(tick_marks, classes)\n",
        "\n",
        "    if normalize:\n",
        "        cm = cm.astype('float') / cm.sum(axis=1)[:, np.newaxis]\n",
        "\n",
        "    thresh = cm.max() / 2.\n",
        "    for i, j in itertools.product(range(cm.shape[0]), range(cm.shape[1])):\n",
        "        plt.text(j, i, cm[i, j],\n",
        "                 horizontalalignment=\"center\",\n",
        "                 color=\"white\" if cm[i, j] > thresh else \"black\")\n",
        "\n",
        "    plt.tight_layout()\n",
        "    plt.ylabel('Actual class')\n",
        "    plt.xlabel('Predicted class')"
      ],
      "metadata": {
        "id": "dkmQHqjpblXr"
      },
      "execution_count": null,
      "outputs": []
    },
    {
      "cell_type": "code",
      "source": [
        "from collections import Counter\n",
        "from sklearn.metrics import confusion_matrix\n",
        "import itertools\n",
        "\n",
        "# Predict the values from the validation dataset\n",
        "Y_pred = model_3.predict(x_test)\n",
        "# Convert predictions classes to one hot vectors \n",
        "Y_pred_classes = np.argmax(Y_pred, axis = 1) \n",
        "# Convert validation observations to one hot vectors\n",
        "Y_true = np.argmax(y_test, axis = 1) \n",
        "# compute the confusion matrix\n",
        "confusion_mtx = confusion_matrix(Y_true, Y_pred_classes) \n",
        "# plot the confusion matrix\n",
        "plot_confusion_matrix(confusion_mtx, classes = range(10))\n",
        "\n"
      ],
      "metadata": {
        "id": "rW3tFk8Lbo16",
        "colab": {
          "base_uri": "https://localhost:8080/",
          "height": 311
        },
        "outputId": "49b8bc12-5b28-44ea-cab9-6335ba6d0d63"
      },
      "execution_count": null,
      "outputs": [
        {
          "output_type": "display_data",
          "data": {
            "text/plain": [
              "<Figure size 432x288 with 2 Axes>"
            ],
            "image/png": "[encoded data removed]"
          },
          "metadata": {
            "needs_background": "light"
          }
        }
      ]
    },
    {
      "cell_type": "markdown",
      "source": [
        "- In this case, the elements of the diagonal represent the number of points in which the label predicted by the model coincides with the actual value of the label, while the other values indicate the cases in which the model has classified incorrectly. \n",
        "\n",
        "- Therefore, the higher the values of the diagonal, the better the prediction will be. \n",
        "\n",
        "- If we calculate the sum of the values of the diagonal divided by the total values of the matrix, we get the same accuracy that the evaluate() method has returned."
      ],
      "metadata": {
        "id": "52XXeMHAbkV8"
      }
    },
    {
      "cell_type": "markdown",
      "source": [
        "## 9. Generate predictions <a class=\"anchor\" id=\"11\"></a>\n",
        "\n",
        "[Back to Table of Contents](#0.1)\n",
        "\n",
        "\n",
        "- We have build the ANN model to classify the MNIST digits.\n",
        "\n",
        "- Now, we need to know how we can use the trained model to make predictions. \n",
        "\n",
        "- It consists in predict which digit represents an image. \n",
        "\n",
        "- In order to do this, Keras supply the **predict()** method.\n",
        "\n",
        "- To test this method we can choose any element. \n",
        "\n",
        "- For simplicity, we will take one from the test dataset x_test. For example let’s choose the element 11 of this dataset x_test."
      ],
      "metadata": {
        "id": "49YL5P2bcKvc"
      }
    },
    {
      "cell_type": "markdown",
      "source": [
        "- Now, we will see the **predict()** method in action. \n",
        "\n",
        "- We execute the following code, correctly predicts the value that it should predict."
      ],
      "metadata": {
        "id": "Sj654yPJcRpp"
      }
    },
    {
      "cell_type": "code",
      "source": [
        "y_pred = model_3.predict(x_test)\n",
        "print(y_pred)"
      ],
      "metadata": {
        "colab": {
          "base_uri": "https://localhost:8080/"
        },
        "id": "CyeuIdEGka9K",
        "outputId": "2ebd6d70-708c-441f-8f8f-d28e61ea7ee1"
      },
      "execution_count": null,
      "outputs": [
        {
          "output_type": "stream",
          "name": "stdout",
          "text": [
            "[[8.02267604e-29 3.04706107e-23 4.76564358e-21 ... 1.00000000e+00\n",
            "  6.40494861e-30 1.05173346e-19]\n",
            " [0.00000000e+00 2.00478760e-29 1.00000000e+00 ... 0.00000000e+00\n",
            "  0.00000000e+00 0.00000000e+00]\n",
            " [3.73705203e-25 1.00000000e+00 1.46657985e-18 ... 9.10295551e-15\n",
            "  1.58945042e-19 3.87943181e-25]\n",
            " ...\n",
            " [2.34300921e-31 4.14355564e-23 9.41367913e-24 ... 2.57194503e-18\n",
            "  2.71040005e-24 2.77374953e-20]\n",
            " [0.00000000e+00 4.16329013e-34 0.00000000e+00 ... 2.80149971e-38\n",
            "  3.17357003e-31 0.00000000e+00]\n",
            " [4.36720580e-33 0.00000000e+00 3.06823569e-35 ... 0.00000000e+00\n",
            "  7.95541487e-37 0.00000000e+00]]\n"
          ]
        }
      ]
    },
    {
      "cell_type": "code",
      "source": [
        "y_pred = model_3.predict(x_test)\n",
        "X_test__ = x_test.reshape(x_test.shape[0], 28, 28)\n",
        "\n",
        "fig, axis = plt.subplots(4, 4, figsize=(12, 14))\n",
        "for i, ax in enumerate(axis.flat):\n",
        "    ax.imshow(X_test__[i], cmap='binary')\n",
        "    ax.set(title = f\"Real Number is {y_test[i].argmax()}\\nPredict Number is {y_pred[i].argmax()}\");"
      ],
      "metadata": {
        "colab": {
          "base_uri": "https://localhost:8080/",
          "height": 820
        },
        "id": "mr7Zmj9JAnz9",
        "outputId": "8696c895-b8b1-4851-af58-4ecc1bb34941"
      },
      "execution_count": null,
      "outputs": [
        {
          "output_type": "display_data",
          "data": {
            "text/plain": [
              "<Figure size 864x1008 with 16 Axes>"
            ],
            "image/png": "[encoded data removed]"
          },
          "metadata": {
            "needs_background": "light"
          }
        }
      ]
    },
    {
      "metadata": {
        "id": "JoysbY2KWc9g"
      },
      "cell_type": "markdown",
      "source": [
        "# 8. Results and Conclusion <a class=\"anchor\" id=\"8\"></a>\n",
        "\n",
        "[Back to Table of Contents](#0.1)\n",
        "\n",
        "\n",
        "- In this kernel, we build a dense neural network model to classify the MNIST digits and predict accuracy.\n",
        "\n",
        "- We get the test accuracy of 98.3%.\n",
        "\n",
        "- The accuracy tells us that our ANN model classifies the digits 98.3% of time correctly.\n",
        "\n"
      ]
    }
  ],
  "metadata": {
    "kernelspec": {
      "name": "python3",
      "display_name": "Python 3",
      "language": "python"
    },
    "language_info": {
      "name": "python",
      "version": "3.6.6",
      "mimetype": "text/x-python",
      "codemirror_mode": {
        "name": "ipython",
        "version": 3
      },
      "pygments_lexer": "ipython3",
      "nbconvert_exporter": "python",
      "file_extension": ".py"
    },
    "colab": {
      "provenance": [],
      "collapsed_sections": []
    },
    "accelerator": "GPU",
    "gpuClass": "standard"
  },
  "nbformat": 4,
  "nbformat_minor": 0
}